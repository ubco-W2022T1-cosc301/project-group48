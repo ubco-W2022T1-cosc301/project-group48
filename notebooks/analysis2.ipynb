{
 "cells": [
  {
   "cell_type": "markdown",
   "metadata": {},
   "source": [
    "# Manav Gupta"
   ]
  },
  {
   "cell_type": "markdown",
   "metadata": {},
   "source": [
    "## Research question/interests\n",
    "\n",
    "In this project, I aim to find any trends in the U.S Police Shootings that have taken place from 2015-2022. My main focus would be on trends based on the shootings descriptions(if they were armed or not, use of body cams, if they were fleeing etc), race of the victim, the age of the victim, the states in which the shootings occurred and whether any events in 2015-2022 impacted the trends in number of shotings. Additionally, I will focus more on the trends between unarmed victims and other factors, since having a weapon gives the police the right to defend themselves and therefore, it could be difficult to evaluate the siuations.\n",
    "\n",
    "Therefore, my **research questions** are: \n",
    "1. How many unarmed victims were shot?\n",
    "1. Are there any trends between trends between the race & age of the victims and the number of shootings ocurred?\n",
    "1. Where (in which states) did the shootings occur?\n",
    "1. Have the number of shootings in the United States decrease from 2015 - 2022?\n",
    "\n",
    "\n",
    "\n",
    "\n",
    "![US MAP](../images/1920px-Police_killings_in_the_USA_in_2018.svg.png)\n"
   ]
  },
  {
   "cell_type": "markdown",
   "metadata": {},
   "source": [
    "# Task 1 : Exploratory Data Analysis (EDA) "
   ]
  },
  {
   "cell_type": "code",
   "execution_count": null,
   "metadata": {},
   "outputs": [],
   "source": [
    "import numpy as np\n",
    "import pandas as pd\n",
    "import matplotlib as plt\n",
    "import seaborn as sns"
   ]
  },
  {
   "cell_type": "code",
   "execution_count": null,
   "metadata": {},
   "outputs": [
    {
     "data": {
      "text/html": [
       "<div>\n",
       "<style scoped>\n",
       "    .dataframe tbody tr th:only-of-type {\n",
       "        vertical-align: middle;\n",
       "    }\n",
       "\n",
       "    .dataframe tbody tr th {\n",
       "        vertical-align: top;\n",
       "    }\n",
       "\n",
       "    .dataframe thead th {\n",
       "        text-align: right;\n",
       "    }\n",
       "</style>\n",
       "<table border=\"1\" class=\"dataframe\">\n",
       "  <thead>\n",
       "    <tr style=\"text-align: right;\">\n",
       "      <th></th>\n",
       "      <th>id</th>\n",
       "      <th>name</th>\n",
       "      <th>date</th>\n",
       "      <th>manner_of_death</th>\n",
       "      <th>armed</th>\n",
       "      <th>age</th>\n",
       "      <th>gender</th>\n",
       "      <th>race</th>\n",
       "      <th>city</th>\n",
       "      <th>state</th>\n",
       "      <th>signs_of_mental_illness</th>\n",
       "      <th>threat_level</th>\n",
       "      <th>flee</th>\n",
       "      <th>body_camera</th>\n",
       "      <th>longitude</th>\n",
       "      <th>latitude</th>\n",
       "      <th>is_geocoding_exact</th>\n",
       "    </tr>\n",
       "  </thead>\n",
       "  <tbody>\n",
       "    <tr>\n",
       "      <th>0</th>\n",
       "      <td>1</td>\n",
       "      <td>Tim Elliot</td>\n",
       "      <td>2015-01-02</td>\n",
       "      <td>shot</td>\n",
       "      <td>gun</td>\n",
       "      <td>53.0</td>\n",
       "      <td>M</td>\n",
       "      <td>A</td>\n",
       "      <td>Shelton</td>\n",
       "      <td>WA</td>\n",
       "      <td>True</td>\n",
       "      <td>attack</td>\n",
       "      <td>Not fleeing</td>\n",
       "      <td>False</td>\n",
       "      <td>-123.122</td>\n",
       "      <td>47.247</td>\n",
       "      <td>True</td>\n",
       "    </tr>\n",
       "    <tr>\n",
       "      <th>1</th>\n",
       "      <td>2</td>\n",
       "      <td>Lewis Lee Lembke</td>\n",
       "      <td>2015-01-02</td>\n",
       "      <td>shot</td>\n",
       "      <td>gun</td>\n",
       "      <td>47.0</td>\n",
       "      <td>M</td>\n",
       "      <td>W</td>\n",
       "      <td>Aloha</td>\n",
       "      <td>OR</td>\n",
       "      <td>False</td>\n",
       "      <td>attack</td>\n",
       "      <td>Not fleeing</td>\n",
       "      <td>False</td>\n",
       "      <td>-122.892</td>\n",
       "      <td>45.487</td>\n",
       "      <td>True</td>\n",
       "    </tr>\n",
       "    <tr>\n",
       "      <th>2</th>\n",
       "      <td>3</td>\n",
       "      <td>John Paul Quintero</td>\n",
       "      <td>2015-01-03</td>\n",
       "      <td>shot and Tasered</td>\n",
       "      <td>unarmed</td>\n",
       "      <td>23.0</td>\n",
       "      <td>M</td>\n",
       "      <td>H</td>\n",
       "      <td>Wichita</td>\n",
       "      <td>KS</td>\n",
       "      <td>False</td>\n",
       "      <td>other</td>\n",
       "      <td>Not fleeing</td>\n",
       "      <td>False</td>\n",
       "      <td>-97.281</td>\n",
       "      <td>37.695</td>\n",
       "      <td>True</td>\n",
       "    </tr>\n",
       "    <tr>\n",
       "      <th>3</th>\n",
       "      <td>4</td>\n",
       "      <td>Matthew Hoffman</td>\n",
       "      <td>2015-01-04</td>\n",
       "      <td>shot</td>\n",
       "      <td>toy weapon</td>\n",
       "      <td>32.0</td>\n",
       "      <td>M</td>\n",
       "      <td>W</td>\n",
       "      <td>San Francisco</td>\n",
       "      <td>CA</td>\n",
       "      <td>True</td>\n",
       "      <td>attack</td>\n",
       "      <td>Not fleeing</td>\n",
       "      <td>False</td>\n",
       "      <td>-122.422</td>\n",
       "      <td>37.763</td>\n",
       "      <td>True</td>\n",
       "    </tr>\n",
       "    <tr>\n",
       "      <th>4</th>\n",
       "      <td>5</td>\n",
       "      <td>Michael Rodriguez</td>\n",
       "      <td>2015-01-04</td>\n",
       "      <td>shot</td>\n",
       "      <td>nail gun</td>\n",
       "      <td>39.0</td>\n",
       "      <td>M</td>\n",
       "      <td>H</td>\n",
       "      <td>Evans</td>\n",
       "      <td>CO</td>\n",
       "      <td>False</td>\n",
       "      <td>attack</td>\n",
       "      <td>Not fleeing</td>\n",
       "      <td>False</td>\n",
       "      <td>-104.692</td>\n",
       "      <td>40.384</td>\n",
       "      <td>True</td>\n",
       "    </tr>\n",
       "    <tr>\n",
       "      <th>...</th>\n",
       "      <td>...</td>\n",
       "      <td>...</td>\n",
       "      <td>...</td>\n",
       "      <td>...</td>\n",
       "      <td>...</td>\n",
       "      <td>...</td>\n",
       "      <td>...</td>\n",
       "      <td>...</td>\n",
       "      <td>...</td>\n",
       "      <td>...</td>\n",
       "      <td>...</td>\n",
       "      <td>...</td>\n",
       "      <td>...</td>\n",
       "      <td>...</td>\n",
       "      <td>...</td>\n",
       "      <td>...</td>\n",
       "      <td>...</td>\n",
       "    </tr>\n",
       "    <tr>\n",
       "      <th>7724</th>\n",
       "      <td>7725</td>\n",
       "      <td>NaN</td>\n",
       "      <td>2022-09-07</td>\n",
       "      <td>shot</td>\n",
       "      <td>screwdriver</td>\n",
       "      <td>NaN</td>\n",
       "      <td>M</td>\n",
       "      <td>NaN</td>\n",
       "      <td>Flagstaff</td>\n",
       "      <td>AZ</td>\n",
       "      <td>False</td>\n",
       "      <td>other</td>\n",
       "      <td>Foot</td>\n",
       "      <td>False</td>\n",
       "      <td>-111.584</td>\n",
       "      <td>35.224</td>\n",
       "      <td>True</td>\n",
       "    </tr>\n",
       "    <tr>\n",
       "      <th>7725</th>\n",
       "      <td>7726</td>\n",
       "      <td>NaN</td>\n",
       "      <td>2022-09-07</td>\n",
       "      <td>shot</td>\n",
       "      <td>gun</td>\n",
       "      <td>NaN</td>\n",
       "      <td>M</td>\n",
       "      <td>W</td>\n",
       "      <td>Springville</td>\n",
       "      <td>AL</td>\n",
       "      <td>False</td>\n",
       "      <td>attack</td>\n",
       "      <td>Car</td>\n",
       "      <td>False</td>\n",
       "      <td>-86.472</td>\n",
       "      <td>33.775</td>\n",
       "      <td>True</td>\n",
       "    </tr>\n",
       "    <tr>\n",
       "      <th>7726</th>\n",
       "      <td>7727</td>\n",
       "      <td>NaN</td>\n",
       "      <td>2022-09-07</td>\n",
       "      <td>shot</td>\n",
       "      <td>knife</td>\n",
       "      <td>61.0</td>\n",
       "      <td>M</td>\n",
       "      <td>B</td>\n",
       "      <td>St. Louis</td>\n",
       "      <td>MO</td>\n",
       "      <td>False</td>\n",
       "      <td>other</td>\n",
       "      <td>Not fleeing</td>\n",
       "      <td>False</td>\n",
       "      <td>-90.290</td>\n",
       "      <td>38.668</td>\n",
       "      <td>True</td>\n",
       "    </tr>\n",
       "    <tr>\n",
       "      <th>7727</th>\n",
       "      <td>7728</td>\n",
       "      <td>Tyler Michael Gardner</td>\n",
       "      <td>2022-09-07</td>\n",
       "      <td>shot</td>\n",
       "      <td>gun</td>\n",
       "      <td>27.0</td>\n",
       "      <td>M</td>\n",
       "      <td>NaN</td>\n",
       "      <td>Washington County</td>\n",
       "      <td>TN</td>\n",
       "      <td>False</td>\n",
       "      <td>attack</td>\n",
       "      <td>Other</td>\n",
       "      <td>False</td>\n",
       "      <td>-82.539</td>\n",
       "      <td>36.309</td>\n",
       "      <td>True</td>\n",
       "    </tr>\n",
       "    <tr>\n",
       "      <th>7728</th>\n",
       "      <td>7729</td>\n",
       "      <td>Reginald Lamont Grant</td>\n",
       "      <td>2022-09-07</td>\n",
       "      <td>shot</td>\n",
       "      <td>gun</td>\n",
       "      <td>30.0</td>\n",
       "      <td>M</td>\n",
       "      <td>NaN</td>\n",
       "      <td>Columbus</td>\n",
       "      <td>GA</td>\n",
       "      <td>False</td>\n",
       "      <td>attack</td>\n",
       "      <td>Foot</td>\n",
       "      <td>False</td>\n",
       "      <td>NaN</td>\n",
       "      <td>NaN</td>\n",
       "      <td>True</td>\n",
       "    </tr>\n",
       "  </tbody>\n",
       "</table>\n",
       "<p>7729 rows × 17 columns</p>\n",
       "</div>"
      ],
      "text/plain": [
       "        id                   name        date   manner_of_death        armed  \\\n",
       "0        1             Tim Elliot  2015-01-02              shot          gun   \n",
       "1        2       Lewis Lee Lembke  2015-01-02              shot          gun   \n",
       "2        3     John Paul Quintero  2015-01-03  shot and Tasered      unarmed   \n",
       "3        4        Matthew Hoffman  2015-01-04              shot   toy weapon   \n",
       "4        5      Michael Rodriguez  2015-01-04              shot     nail gun   \n",
       "...    ...                    ...         ...               ...          ...   \n",
       "7724  7725                    NaN  2022-09-07              shot  screwdriver   \n",
       "7725  7726                    NaN  2022-09-07              shot          gun   \n",
       "7726  7727                    NaN  2022-09-07              shot        knife   \n",
       "7727  7728  Tyler Michael Gardner  2022-09-07              shot          gun   \n",
       "7728  7729  Reginald Lamont Grant  2022-09-07              shot          gun   \n",
       "\n",
       "       age gender race               city state  signs_of_mental_illness  \\\n",
       "0     53.0      M    A            Shelton    WA                     True   \n",
       "1     47.0      M    W              Aloha    OR                    False   \n",
       "2     23.0      M    H            Wichita    KS                    False   \n",
       "3     32.0      M    W      San Francisco    CA                     True   \n",
       "4     39.0      M    H              Evans    CO                    False   \n",
       "...    ...    ...  ...                ...   ...                      ...   \n",
       "7724   NaN      M  NaN          Flagstaff    AZ                    False   \n",
       "7725   NaN      M    W        Springville    AL                    False   \n",
       "7726  61.0      M    B          St. Louis    MO                    False   \n",
       "7727  27.0      M  NaN  Washington County    TN                    False   \n",
       "7728  30.0      M  NaN           Columbus    GA                    False   \n",
       "\n",
       "     threat_level         flee  body_camera  longitude  latitude  \\\n",
       "0          attack  Not fleeing        False   -123.122    47.247   \n",
       "1          attack  Not fleeing        False   -122.892    45.487   \n",
       "2           other  Not fleeing        False    -97.281    37.695   \n",
       "3          attack  Not fleeing        False   -122.422    37.763   \n",
       "4          attack  Not fleeing        False   -104.692    40.384   \n",
       "...           ...          ...          ...        ...       ...   \n",
       "7724        other         Foot        False   -111.584    35.224   \n",
       "7725       attack          Car        False    -86.472    33.775   \n",
       "7726        other  Not fleeing        False    -90.290    38.668   \n",
       "7727       attack        Other        False    -82.539    36.309   \n",
       "7728       attack         Foot        False        NaN       NaN   \n",
       "\n",
       "      is_geocoding_exact  \n",
       "0                   True  \n",
       "1                   True  \n",
       "2                   True  \n",
       "3                   True  \n",
       "4                   True  \n",
       "...                  ...  \n",
       "7724                True  \n",
       "7725                True  \n",
       "7726                True  \n",
       "7727                True  \n",
       "7728                True  \n",
       "\n",
       "[7729 rows x 17 columns]"
      ]
     },
     "execution_count": null,
     "metadata": {},
     "output_type": "execute_result"
    }
   ],
   "source": [
    "raw_data = pd.read_csv(\"../data/US Police shootings in from 2015-22 2.csv\")\n",
    "raw_data"
   ]
  },
  {
   "cell_type": "code",
   "execution_count": null,
   "metadata": {},
   "outputs": [
    {
     "name": "stdout",
     "output_type": "stream",
     "text": [
      "<class 'pandas.core.frame.DataFrame'>\n",
      "RangeIndex: 7729 entries, 0 to 7728\n",
      "Data columns (total 17 columns):\n",
      " #   Column                   Non-Null Count  Dtype  \n",
      "---  ------                   --------------  -----  \n",
      " 0   id                       7729 non-null   int64  \n",
      " 1   name                     7312 non-null   object \n",
      " 2   date                     7729 non-null   object \n",
      " 3   manner_of_death          7729 non-null   object \n",
      " 4   armed                    7520 non-null   object \n",
      " 5   age                      7247 non-null   float64\n",
      " 6   gender                   7709 non-null   object \n",
      " 7   race                     6269 non-null   object \n",
      " 8   city                     7729 non-null   object \n",
      " 9   state                    7729 non-null   object \n",
      " 10  signs_of_mental_illness  7729 non-null   bool   \n",
      " 11  threat_level             7729 non-null   object \n",
      " 12  flee                     6854 non-null   object \n",
      " 13  body_camera              7729 non-null   bool   \n",
      " 14  longitude                6892 non-null   float64\n",
      " 15  latitude                 6892 non-null   float64\n",
      " 16  is_geocoding_exact       7729 non-null   bool   \n",
      "dtypes: bool(3), float64(3), int64(1), object(10)\n",
      "memory usage: 868.1+ KB\n"
     ]
    }
   ],
   "source": [
    "raw_data.info()"
   ]
  },
  {
   "cell_type": "markdown",
   "metadata": {},
   "source": [
    "As we can see, there are hardly any null values in the dataset which shows that the data collected is complete and reliable however, in some cases we can observe that few of the values are null. This causes uncertainty and we will analyse data with null values separately. "
   ]
  },
  {
   "cell_type": "code",
   "execution_count": null,
   "metadata": {},
   "outputs": [
    {
     "data": {
      "text/plain": [
       "(7729, 17)"
      ]
     },
     "execution_count": null,
     "metadata": {},
     "output_type": "execute_result"
    }
   ],
   "source": [
    "raw_data.shape"
   ]
  },
  {
   "cell_type": "markdown",
   "metadata": {},
   "source": [
    "The dataset has **7729 entries from 2015-2022.** This is very helpful since more entries gives a greater chance of creating trends that are more reliable and accurate. These entries would give a wide range of data which could be used to analyse the trends and provide answers to our research questions. \n",
    "\n"
   ]
  },
  {
   "cell_type": "code",
   "execution_count": null,
   "metadata": {},
   "outputs": [
    {
     "data": {
      "text/plain": [
       "Index(['id', 'name', 'date', 'manner_of_death', 'armed', 'age', 'gender',\n",
       "       'race', 'city', 'state', 'signs_of_mental_illness', 'threat_level',\n",
       "       'flee', 'body_camera', 'longitude', 'latitude', 'is_geocoding_exact'],\n",
       "      dtype='object')"
      ]
     },
     "execution_count": null,
     "metadata": {},
     "output_type": "execute_result"
    }
   ],
   "source": [
    "raw_data.columns"
   ]
  },
  {
   "cell_type": "markdown",
   "metadata": {},
   "source": [
    "Here as we can see that, there are various different columns present in the dataset however, not only columns would be needed to analyse the data. Columns  like **'longitiude', 'latitude', 'is_geocoding_exact'** do not provide us with much value therefore, we can probably remove them from the dataset. "
   ]
  },
  {
   "cell_type": "code",
   "execution_count": null,
   "metadata": {},
   "outputs": [
    {
     "data": {
      "text/html": [
       "<div>\n",
       "<style scoped>\n",
       "    .dataframe tbody tr th:only-of-type {\n",
       "        vertical-align: middle;\n",
       "    }\n",
       "\n",
       "    .dataframe tbody tr th {\n",
       "        vertical-align: top;\n",
       "    }\n",
       "\n",
       "    .dataframe thead th {\n",
       "        text-align: right;\n",
       "    }\n",
       "</style>\n",
       "<table border=\"1\" class=\"dataframe\">\n",
       "  <thead>\n",
       "    <tr style=\"text-align: right;\">\n",
       "      <th></th>\n",
       "      <th>id</th>\n",
       "      <th>name</th>\n",
       "      <th>date</th>\n",
       "      <th>manner_of_death</th>\n",
       "      <th>armed</th>\n",
       "      <th>age</th>\n",
       "      <th>gender</th>\n",
       "      <th>race</th>\n",
       "      <th>city</th>\n",
       "      <th>state</th>\n",
       "      <th>signs_of_mental_illness</th>\n",
       "      <th>threat_level</th>\n",
       "      <th>flee</th>\n",
       "      <th>body_camera</th>\n",
       "      <th>longitude</th>\n",
       "      <th>latitude</th>\n",
       "      <th>is_geocoding_exact</th>\n",
       "    </tr>\n",
       "  </thead>\n",
       "  <tbody>\n",
       "    <tr>\n",
       "      <th>0</th>\n",
       "      <td>1</td>\n",
       "      <td>Tim Elliot</td>\n",
       "      <td>2015-01-02</td>\n",
       "      <td>shot</td>\n",
       "      <td>gun</td>\n",
       "      <td>53.0</td>\n",
       "      <td>M</td>\n",
       "      <td>A</td>\n",
       "      <td>Shelton</td>\n",
       "      <td>WA</td>\n",
       "      <td>True</td>\n",
       "      <td>attack</td>\n",
       "      <td>Not fleeing</td>\n",
       "      <td>False</td>\n",
       "      <td>-123.122</td>\n",
       "      <td>47.247</td>\n",
       "      <td>True</td>\n",
       "    </tr>\n",
       "    <tr>\n",
       "      <th>1</th>\n",
       "      <td>2</td>\n",
       "      <td>Lewis Lee Lembke</td>\n",
       "      <td>2015-01-02</td>\n",
       "      <td>shot</td>\n",
       "      <td>gun</td>\n",
       "      <td>47.0</td>\n",
       "      <td>M</td>\n",
       "      <td>W</td>\n",
       "      <td>Aloha</td>\n",
       "      <td>OR</td>\n",
       "      <td>False</td>\n",
       "      <td>attack</td>\n",
       "      <td>Not fleeing</td>\n",
       "      <td>False</td>\n",
       "      <td>-122.892</td>\n",
       "      <td>45.487</td>\n",
       "      <td>True</td>\n",
       "    </tr>\n",
       "    <tr>\n",
       "      <th>2</th>\n",
       "      <td>3</td>\n",
       "      <td>John Paul Quintero</td>\n",
       "      <td>2015-01-03</td>\n",
       "      <td>shot and Tasered</td>\n",
       "      <td>unarmed</td>\n",
       "      <td>23.0</td>\n",
       "      <td>M</td>\n",
       "      <td>H</td>\n",
       "      <td>Wichita</td>\n",
       "      <td>KS</td>\n",
       "      <td>False</td>\n",
       "      <td>other</td>\n",
       "      <td>Not fleeing</td>\n",
       "      <td>False</td>\n",
       "      <td>-97.281</td>\n",
       "      <td>37.695</td>\n",
       "      <td>True</td>\n",
       "    </tr>\n",
       "    <tr>\n",
       "      <th>3</th>\n",
       "      <td>4</td>\n",
       "      <td>Matthew Hoffman</td>\n",
       "      <td>2015-01-04</td>\n",
       "      <td>shot</td>\n",
       "      <td>toy weapon</td>\n",
       "      <td>32.0</td>\n",
       "      <td>M</td>\n",
       "      <td>W</td>\n",
       "      <td>San Francisco</td>\n",
       "      <td>CA</td>\n",
       "      <td>True</td>\n",
       "      <td>attack</td>\n",
       "      <td>Not fleeing</td>\n",
       "      <td>False</td>\n",
       "      <td>-122.422</td>\n",
       "      <td>37.763</td>\n",
       "      <td>True</td>\n",
       "    </tr>\n",
       "    <tr>\n",
       "      <th>4</th>\n",
       "      <td>5</td>\n",
       "      <td>Michael Rodriguez</td>\n",
       "      <td>2015-01-04</td>\n",
       "      <td>shot</td>\n",
       "      <td>nail gun</td>\n",
       "      <td>39.0</td>\n",
       "      <td>M</td>\n",
       "      <td>H</td>\n",
       "      <td>Evans</td>\n",
       "      <td>CO</td>\n",
       "      <td>False</td>\n",
       "      <td>attack</td>\n",
       "      <td>Not fleeing</td>\n",
       "      <td>False</td>\n",
       "      <td>-104.692</td>\n",
       "      <td>40.384</td>\n",
       "      <td>True</td>\n",
       "    </tr>\n",
       "  </tbody>\n",
       "</table>\n",
       "</div>"
      ],
      "text/plain": [
       "   id                name        date   manner_of_death       armed   age  \\\n",
       "0   1          Tim Elliot  2015-01-02              shot         gun  53.0   \n",
       "1   2    Lewis Lee Lembke  2015-01-02              shot         gun  47.0   \n",
       "2   3  John Paul Quintero  2015-01-03  shot and Tasered     unarmed  23.0   \n",
       "3   4     Matthew Hoffman  2015-01-04              shot  toy weapon  32.0   \n",
       "4   5   Michael Rodriguez  2015-01-04              shot    nail gun  39.0   \n",
       "\n",
       "  gender race           city state  signs_of_mental_illness threat_level  \\\n",
       "0      M    A        Shelton    WA                     True       attack   \n",
       "1      M    W          Aloha    OR                    False       attack   \n",
       "2      M    H        Wichita    KS                    False        other   \n",
       "3      M    W  San Francisco    CA                     True       attack   \n",
       "4      M    H          Evans    CO                    False       attack   \n",
       "\n",
       "          flee  body_camera  longitude  latitude  is_geocoding_exact  \n",
       "0  Not fleeing        False   -123.122    47.247                True  \n",
       "1  Not fleeing        False   -122.892    45.487                True  \n",
       "2  Not fleeing        False    -97.281    37.695                True  \n",
       "3  Not fleeing        False   -122.422    37.763                True  \n",
       "4  Not fleeing        False   -104.692    40.384                True  "
      ]
     },
     "execution_count": null,
     "metadata": {},
     "output_type": "execute_result"
    }
   ],
   "source": [
    "raw_data.head()"
   ]
  },
  {
   "cell_type": "markdown",
   "metadata": {},
   "source": [
    "We will look into the amount of null values/missing values present in the dataset. The bar graph below shows the number if null vaues in each column of the dataset."
   ]
  },
  {
   "cell_type": "code",
   "execution_count": null,
   "metadata": {},
   "outputs": [
    {
     "data": {
      "image/png": "[encoded data removed]",
      "text/plain": [
       "<Figure size 576x432 with 1 Axes>"
      ]
     },
     "metadata": {
      "needs_background": "light"
     },
     "output_type": "display_data"
    }
   ],
   "source": [
    "import seaborn as sns\n",
    "import matplotlib.pyplot as plt\n",
    "plt.subplots(figsize=(8,6))\n",
    "s = sns.countplot(data = shootings_data, x='armed/unarmed',order=shootings_data[\"armed/unarmed\"].value_counts().index,palette = \"Set2\").set_title(\"Were they armed or unarmed?\",fontsize=20)\n",
    "s.axes.set_xlabel(\"Armed/Unarmed\",fontsize=20)\n",
    "s.axes.set_ylabel(\"Number of shootings\",fontsize=20)\n",
    "plt.savefig(\"eda2.png\", dpi=300, bbox_inches='tight',facecolor=\"white\")"
   ]
  },
  {
   "cell_type": "code",
   "execution_count": null,
   "metadata": {},
   "outputs": [
    {
     "data": {
      "image/png": "[encoded data removed]",
      "text/plain": [
       "<Figure size 432x288 with 1 Axes>"
      ]
     },
     "metadata": {
      "needs_background": "light"
     },
     "output_type": "display_data"
    }
   ],
   "source": [
    "import matplotlib.pyplot as plt\n",
    "data =  pd.read_csv(\"../data/US Police shootings in from 2015-22 2.csv\")\n",
    "null = data.isnull().sum()/data.shape[0]*100\n",
    "null.plot(kind='bar')\n",
    "plt.title(\"Percentage of Null values in each Column\")\n",
    "plt.savefig(\"eda1.png\", dpi=300, bbox_inches='tight',facecolor=\"white\")\n",
    "plt.show()\n"
   ]
  },
  {
   "cell_type": "markdown",
   "metadata": {},
   "source": [
    "Since, we see there are a number of missing values in the dataset, we will remove all the null values to make a clean dataset with all values present. This could change the shape of the datatset as we can see below however, this makes it more accurate and reliable reuslts since all columns and data have appropriat data now. "
   ]
  },
  {
   "cell_type": "code",
   "execution_count": null,
   "metadata": {},
   "outputs": [
    {
     "name": "stdout",
     "output_type": "stream",
     "text": [
      "After dropping null values, the shape of the Dataset is (5070, 17)\n",
      "After dropping null values, null values of the Dataset :\n"
     ]
    },
    {
     "data": {
      "text/html": [
       "<div>\n",
       "<style scoped>\n",
       "    .dataframe tbody tr th:only-of-type {\n",
       "        vertical-align: middle;\n",
       "    }\n",
       "\n",
       "    .dataframe tbody tr th {\n",
       "        vertical-align: top;\n",
       "    }\n",
       "\n",
       "    .dataframe thead th {\n",
       "        text-align: right;\n",
       "    }\n",
       "</style>\n",
       "<table border=\"1\" class=\"dataframe\">\n",
       "  <thead>\n",
       "    <tr style=\"text-align: right;\">\n",
       "      <th></th>\n",
       "      <th>0</th>\n",
       "    </tr>\n",
       "  </thead>\n",
       "  <tbody>\n",
       "    <tr>\n",
       "      <th>id</th>\n",
       "      <td>0</td>\n",
       "    </tr>\n",
       "    <tr>\n",
       "      <th>name</th>\n",
       "      <td>0</td>\n",
       "    </tr>\n",
       "    <tr>\n",
       "      <th>date</th>\n",
       "      <td>0</td>\n",
       "    </tr>\n",
       "    <tr>\n",
       "      <th>manner_of_death</th>\n",
       "      <td>0</td>\n",
       "    </tr>\n",
       "    <tr>\n",
       "      <th>armed</th>\n",
       "      <td>0</td>\n",
       "    </tr>\n",
       "    <tr>\n",
       "      <th>age</th>\n",
       "      <td>0</td>\n",
       "    </tr>\n",
       "    <tr>\n",
       "      <th>gender</th>\n",
       "      <td>0</td>\n",
       "    </tr>\n",
       "    <tr>\n",
       "      <th>race</th>\n",
       "      <td>0</td>\n",
       "    </tr>\n",
       "    <tr>\n",
       "      <th>city</th>\n",
       "      <td>0</td>\n",
       "    </tr>\n",
       "    <tr>\n",
       "      <th>state</th>\n",
       "      <td>0</td>\n",
       "    </tr>\n",
       "    <tr>\n",
       "      <th>signs_of_mental_illness</th>\n",
       "      <td>0</td>\n",
       "    </tr>\n",
       "    <tr>\n",
       "      <th>threat_level</th>\n",
       "      <td>0</td>\n",
       "    </tr>\n",
       "    <tr>\n",
       "      <th>flee</th>\n",
       "      <td>0</td>\n",
       "    </tr>\n",
       "    <tr>\n",
       "      <th>body_camera</th>\n",
       "      <td>0</td>\n",
       "    </tr>\n",
       "    <tr>\n",
       "      <th>longitude</th>\n",
       "      <td>0</td>\n",
       "    </tr>\n",
       "    <tr>\n",
       "      <th>latitude</th>\n",
       "      <td>0</td>\n",
       "    </tr>\n",
       "    <tr>\n",
       "      <th>is_geocoding_exact</th>\n",
       "      <td>0</td>\n",
       "    </tr>\n",
       "  </tbody>\n",
       "</table>\n",
       "</div>"
      ],
      "text/plain": [
       "                         0\n",
       "id                       0\n",
       "name                     0\n",
       "date                     0\n",
       "manner_of_death          0\n",
       "armed                    0\n",
       "age                      0\n",
       "gender                   0\n",
       "race                     0\n",
       "city                     0\n",
       "state                    0\n",
       "signs_of_mental_illness  0\n",
       "threat_level             0\n",
       "flee                     0\n",
       "body_camera              0\n",
       "longitude                0\n",
       "latitude                 0\n",
       "is_geocoding_exact       0"
      ]
     },
     "execution_count": null,
     "metadata": {},
     "output_type": "execute_result"
    }
   ],
   "source": [
    "data.dropna(axis = 0, inplace = True)\n",
    "print(f\"After dropping null values, the shape of the Dataset is {data.shape}\")\n",
    "print(f\"After dropping null values, null values of the Dataset :\")\n",
    "data.isna().sum().to_frame()\n"
   ]
  },
  {
   "cell_type": "markdown",
   "metadata": {},
   "source": [
    "# Task 2: Data Analysis Pipeline"
   ]
  },
  {
   "cell_type": "markdown",
   "metadata": {},
   "source": [
    "First, I will clean the data. I will remove columns that would not help in the analysis such as id, longitiude, latitude and geocoding."
   ]
  },
  {
   "cell_type": "code",
   "execution_count": null,
   "metadata": {},
   "outputs": [
    {
     "data": {
      "text/html": [
       "<div>\n",
       "<style scoped>\n",
       "    .dataframe tbody tr th:only-of-type {\n",
       "        vertical-align: middle;\n",
       "    }\n",
       "\n",
       "    .dataframe tbody tr th {\n",
       "        vertical-align: top;\n",
       "    }\n",
       "\n",
       "    .dataframe thead th {\n",
       "        text-align: right;\n",
       "    }\n",
       "</style>\n",
       "<table border=\"1\" class=\"dataframe\">\n",
       "  <thead>\n",
       "    <tr style=\"text-align: right;\">\n",
       "      <th></th>\n",
       "      <th>name</th>\n",
       "      <th>date</th>\n",
       "      <th>manner_of_death</th>\n",
       "      <th>armed</th>\n",
       "      <th>age</th>\n",
       "      <th>gender</th>\n",
       "      <th>race</th>\n",
       "      <th>city</th>\n",
       "      <th>state</th>\n",
       "      <th>signs_of_mental_illness</th>\n",
       "      <th>threat_level</th>\n",
       "      <th>flee</th>\n",
       "      <th>body_camera</th>\n",
       "    </tr>\n",
       "  </thead>\n",
       "  <tbody>\n",
       "    <tr>\n",
       "      <th>0</th>\n",
       "      <td>Tim Elliot</td>\n",
       "      <td>2015-01-02</td>\n",
       "      <td>shot</td>\n",
       "      <td>gun</td>\n",
       "      <td>53.0</td>\n",
       "      <td>M</td>\n",
       "      <td>A</td>\n",
       "      <td>Shelton</td>\n",
       "      <td>WA</td>\n",
       "      <td>True</td>\n",
       "      <td>attack</td>\n",
       "      <td>Not fleeing</td>\n",
       "      <td>False</td>\n",
       "    </tr>\n",
       "    <tr>\n",
       "      <th>1</th>\n",
       "      <td>Lewis Lee Lembke</td>\n",
       "      <td>2015-01-02</td>\n",
       "      <td>shot</td>\n",
       "      <td>gun</td>\n",
       "      <td>47.0</td>\n",
       "      <td>M</td>\n",
       "      <td>W</td>\n",
       "      <td>Aloha</td>\n",
       "      <td>OR</td>\n",
       "      <td>False</td>\n",
       "      <td>attack</td>\n",
       "      <td>Not fleeing</td>\n",
       "      <td>False</td>\n",
       "    </tr>\n",
       "    <tr>\n",
       "      <th>2</th>\n",
       "      <td>John Paul Quintero</td>\n",
       "      <td>2015-01-03</td>\n",
       "      <td>shot and Tasered</td>\n",
       "      <td>unarmed</td>\n",
       "      <td>23.0</td>\n",
       "      <td>M</td>\n",
       "      <td>H</td>\n",
       "      <td>Wichita</td>\n",
       "      <td>KS</td>\n",
       "      <td>False</td>\n",
       "      <td>other</td>\n",
       "      <td>Not fleeing</td>\n",
       "      <td>False</td>\n",
       "    </tr>\n",
       "    <tr>\n",
       "      <th>3</th>\n",
       "      <td>Matthew Hoffman</td>\n",
       "      <td>2015-01-04</td>\n",
       "      <td>shot</td>\n",
       "      <td>toy weapon</td>\n",
       "      <td>32.0</td>\n",
       "      <td>M</td>\n",
       "      <td>W</td>\n",
       "      <td>San Francisco</td>\n",
       "      <td>CA</td>\n",
       "      <td>True</td>\n",
       "      <td>attack</td>\n",
       "      <td>Not fleeing</td>\n",
       "      <td>False</td>\n",
       "    </tr>\n",
       "    <tr>\n",
       "      <th>4</th>\n",
       "      <td>Michael Rodriguez</td>\n",
       "      <td>2015-01-04</td>\n",
       "      <td>shot</td>\n",
       "      <td>nail gun</td>\n",
       "      <td>39.0</td>\n",
       "      <td>M</td>\n",
       "      <td>H</td>\n",
       "      <td>Evans</td>\n",
       "      <td>CO</td>\n",
       "      <td>False</td>\n",
       "      <td>attack</td>\n",
       "      <td>Not fleeing</td>\n",
       "      <td>False</td>\n",
       "    </tr>\n",
       "    <tr>\n",
       "      <th>...</th>\n",
       "      <td>...</td>\n",
       "      <td>...</td>\n",
       "      <td>...</td>\n",
       "      <td>...</td>\n",
       "      <td>...</td>\n",
       "      <td>...</td>\n",
       "      <td>...</td>\n",
       "      <td>...</td>\n",
       "      <td>...</td>\n",
       "      <td>...</td>\n",
       "      <td>...</td>\n",
       "      <td>...</td>\n",
       "      <td>...</td>\n",
       "    </tr>\n",
       "    <tr>\n",
       "      <th>7724</th>\n",
       "      <td>NaN</td>\n",
       "      <td>2022-09-07</td>\n",
       "      <td>shot</td>\n",
       "      <td>screwdriver</td>\n",
       "      <td>NaN</td>\n",
       "      <td>M</td>\n",
       "      <td>NaN</td>\n",
       "      <td>Flagstaff</td>\n",
       "      <td>AZ</td>\n",
       "      <td>False</td>\n",
       "      <td>other</td>\n",
       "      <td>Foot</td>\n",
       "      <td>False</td>\n",
       "    </tr>\n",
       "    <tr>\n",
       "      <th>7725</th>\n",
       "      <td>NaN</td>\n",
       "      <td>2022-09-07</td>\n",
       "      <td>shot</td>\n",
       "      <td>gun</td>\n",
       "      <td>NaN</td>\n",
       "      <td>M</td>\n",
       "      <td>W</td>\n",
       "      <td>Springville</td>\n",
       "      <td>AL</td>\n",
       "      <td>False</td>\n",
       "      <td>attack</td>\n",
       "      <td>Car</td>\n",
       "      <td>False</td>\n",
       "    </tr>\n",
       "    <tr>\n",
       "      <th>7726</th>\n",
       "      <td>NaN</td>\n",
       "      <td>2022-09-07</td>\n",
       "      <td>shot</td>\n",
       "      <td>knife</td>\n",
       "      <td>61.0</td>\n",
       "      <td>M</td>\n",
       "      <td>B</td>\n",
       "      <td>St. Louis</td>\n",
       "      <td>MO</td>\n",
       "      <td>False</td>\n",
       "      <td>other</td>\n",
       "      <td>Not fleeing</td>\n",
       "      <td>False</td>\n",
       "    </tr>\n",
       "    <tr>\n",
       "      <th>7727</th>\n",
       "      <td>Tyler Michael Gardner</td>\n",
       "      <td>2022-09-07</td>\n",
       "      <td>shot</td>\n",
       "      <td>gun</td>\n",
       "      <td>27.0</td>\n",
       "      <td>M</td>\n",
       "      <td>NaN</td>\n",
       "      <td>Washington County</td>\n",
       "      <td>TN</td>\n",
       "      <td>False</td>\n",
       "      <td>attack</td>\n",
       "      <td>Other</td>\n",
       "      <td>False</td>\n",
       "    </tr>\n",
       "    <tr>\n",
       "      <th>7728</th>\n",
       "      <td>Reginald Lamont Grant</td>\n",
       "      <td>2022-09-07</td>\n",
       "      <td>shot</td>\n",
       "      <td>gun</td>\n",
       "      <td>30.0</td>\n",
       "      <td>M</td>\n",
       "      <td>NaN</td>\n",
       "      <td>Columbus</td>\n",
       "      <td>GA</td>\n",
       "      <td>False</td>\n",
       "      <td>attack</td>\n",
       "      <td>Foot</td>\n",
       "      <td>False</td>\n",
       "    </tr>\n",
       "  </tbody>\n",
       "</table>\n",
       "<p>7729 rows × 13 columns</p>\n",
       "</div>"
      ],
      "text/plain": [
       "                       name        date   manner_of_death        armed   age  \\\n",
       "0                Tim Elliot  2015-01-02              shot          gun  53.0   \n",
       "1          Lewis Lee Lembke  2015-01-02              shot          gun  47.0   \n",
       "2        John Paul Quintero  2015-01-03  shot and Tasered      unarmed  23.0   \n",
       "3           Matthew Hoffman  2015-01-04              shot   toy weapon  32.0   \n",
       "4         Michael Rodriguez  2015-01-04              shot     nail gun  39.0   \n",
       "...                     ...         ...               ...          ...   ...   \n",
       "7724                    NaN  2022-09-07              shot  screwdriver   NaN   \n",
       "7725                    NaN  2022-09-07              shot          gun   NaN   \n",
       "7726                    NaN  2022-09-07              shot        knife  61.0   \n",
       "7727  Tyler Michael Gardner  2022-09-07              shot          gun  27.0   \n",
       "7728  Reginald Lamont Grant  2022-09-07              shot          gun  30.0   \n",
       "\n",
       "     gender race               city state  signs_of_mental_illness  \\\n",
       "0         M    A            Shelton    WA                     True   \n",
       "1         M    W              Aloha    OR                    False   \n",
       "2         M    H            Wichita    KS                    False   \n",
       "3         M    W      San Francisco    CA                     True   \n",
       "4         M    H              Evans    CO                    False   \n",
       "...     ...  ...                ...   ...                      ...   \n",
       "7724      M  NaN          Flagstaff    AZ                    False   \n",
       "7725      M    W        Springville    AL                    False   \n",
       "7726      M    B          St. Louis    MO                    False   \n",
       "7727      M  NaN  Washington County    TN                    False   \n",
       "7728      M  NaN           Columbus    GA                    False   \n",
       "\n",
       "     threat_level         flee  body_camera  \n",
       "0          attack  Not fleeing        False  \n",
       "1          attack  Not fleeing        False  \n",
       "2           other  Not fleeing        False  \n",
       "3          attack  Not fleeing        False  \n",
       "4          attack  Not fleeing        False  \n",
       "...           ...          ...          ...  \n",
       "7724        other         Foot        False  \n",
       "7725       attack          Car        False  \n",
       "7726        other  Not fleeing        False  \n",
       "7727       attack        Other        False  \n",
       "7728       attack         Foot        False  \n",
       "\n",
       "[7729 rows x 13 columns]"
      ]
     },
     "execution_count": null,
     "metadata": {},
     "output_type": "execute_result"
    }
   ],
   "source": [
    "clean_data = raw_data.drop(['id','longitude','latitude','is_geocoding_exact'], axis=1)\n",
    "clean_data"
   ]
  },
  {
   "cell_type": "markdown",
   "metadata": {},
   "source": [
    "Since we can observe that it could difficult to understand the abbreviations of the states therefore, we will make a dictionary to replace the values of the column with full forms. "
   ]
  },
  {
   "cell_type": "code",
   "execution_count": null,
   "metadata": {},
   "outputs": [],
   "source": [
    "states = {\n",
    "        'AL': 'Alabama',\n",
    "        'AK': 'Alaska',\n",
    "        'AZ': 'Arizona',\n",
    "        'AR': 'Arkansas',\n",
    "        'CA': 'California',\n",
    "        'CO': 'Colorado',\n",
    "        'CT': 'Connecticut',\n",
    "        'DE': 'Delaware',\n",
    "        'FL': 'Florida',\n",
    "        'GA': 'Georgia',\n",
    "        'HI': 'Hawaii',\n",
    "        'ID': 'Idaho',\n",
    "        'IL': 'Illinois',\n",
    "        'IN': 'Indiana',\n",
    "        'IA': 'Iowa',\n",
    "        'KS': 'Kansas',\n",
    "        'KY': 'Kentucky',\n",
    "        'LA': 'Louisiana',\n",
    "        'ME': 'Maine',\n",
    "        'MD': 'Maryland',\n",
    "        'MA': 'Massachusetts',\n",
    "        'MI': 'Michigan',\n",
    "        'MN': 'Minnesota',\n",
    "        'MS': 'Mississippi',\n",
    "        'MO': 'Missouri',\n",
    "        'MT': 'Montana',\n",
    "        'NE': 'Nebraska',\n",
    "        'NV': 'Nevada',\n",
    "        'NH': 'New Hampshire',\n",
    "        'NJ': 'New Jersey',\n",
    "        'NM': 'New Mexico',\n",
    "        'NY': 'New York',\n",
    "        'NC': 'North Carolina',\n",
    "        'ND': 'North Dakota',\n",
    "        'OH': 'Ohio',\n",
    "        'OK': 'Oklahoma',\n",
    "        'OR': 'Oregon',\n",
    "        'PA': 'Pennsylvania',\n",
    "        'RI': 'Rhode Island',\n",
    "        'SC': 'South Carolina',\n",
    "        'SD': 'South Dakota',\n",
    "        'TN': 'Tennessee',\n",
    "        'TX': 'Texas',\n",
    "        'UT': 'Utah',\n",
    "        'VT': 'Vermont',\n",
    "        'VA': 'Virginia',\n",
    "        'WA': 'Washington',\n",
    "        'WV': 'West Virginia',\n",
    "        'WI': 'Wisconsin',\n",
    "        'WY': 'Wyoming',\n",
    "        'DC': 'District of Columbia',\n",
    "        'MP': 'Northern Mariana Islands',\n",
    "        'PW': 'Palau',\n",
    "        'PR': 'Puerto Rico',\n",
    "        'VI': 'Virgin Islands',\n",
    "        'AA': 'Armed Forces Americas (Except Canada)',\n",
    "        'AE': 'Armed Forces Africa/Canada/Europe/Middle East',\n",
    "        'AP': 'Armed Forces Pacific'\n",
    "        }"
   ]
  },
  {
   "cell_type": "markdown",
   "metadata": {},
   "source": [
    "Here, we not only replace the states but also replace and rename other columns to make it easier to understand and more organized to perform analysis on."
   ]
  },
  {
   "cell_type": "code",
   "execution_count": null,
   "metadata": {},
   "outputs": [
    {
     "name": "stdout",
     "output_type": "stream",
     "text": [
      "After preprocessing, let's have a glimpse of the final dataset :\n"
     ]
    },
    {
     "data": {
      "text/html": [
       "<div>\n",
       "<style scoped>\n",
       "    .dataframe tbody tr th:only-of-type {\n",
       "        vertical-align: middle;\n",
       "    }\n",
       "\n",
       "    .dataframe tbody tr th {\n",
       "        vertical-align: top;\n",
       "    }\n",
       "\n",
       "    .dataframe thead th {\n",
       "        text-align: right;\n",
       "    }\n",
       "</style>\n",
       "<table border=\"1\" class=\"dataframe\">\n",
       "  <thead>\n",
       "    <tr style=\"text-align: right;\">\n",
       "      <th></th>\n",
       "      <th>Year</th>\n",
       "      <th>City</th>\n",
       "      <th>State</th>\n",
       "      <th>State Code</th>\n",
       "      <th>Name</th>\n",
       "      <th>Age</th>\n",
       "      <th>Gender</th>\n",
       "      <th>Race</th>\n",
       "      <th>Mental Illness</th>\n",
       "      <th>Armed</th>\n",
       "      <th>Threat Level</th>\n",
       "      <th>Manner Of Death</th>\n",
       "      <th>Flee</th>\n",
       "      <th>Footage</th>\n",
       "    </tr>\n",
       "  </thead>\n",
       "  <tbody>\n",
       "    <tr>\n",
       "      <th>0</th>\n",
       "      <td>2015</td>\n",
       "      <td>Shelton</td>\n",
       "      <td>Washington</td>\n",
       "      <td>WA</td>\n",
       "      <td>Tim Elliot</td>\n",
       "      <td>53.0</td>\n",
       "      <td>Male</td>\n",
       "      <td>Asian</td>\n",
       "      <td>Abnormal</td>\n",
       "      <td>Gun</td>\n",
       "      <td>Attack</td>\n",
       "      <td>Shot</td>\n",
       "      <td>Not Fleeing</td>\n",
       "      <td>Not Available</td>\n",
       "    </tr>\n",
       "    <tr>\n",
       "      <th>1</th>\n",
       "      <td>2015</td>\n",
       "      <td>Aloha</td>\n",
       "      <td>Oregon</td>\n",
       "      <td>OR</td>\n",
       "      <td>Lewis Lee Lembke</td>\n",
       "      <td>47.0</td>\n",
       "      <td>Male</td>\n",
       "      <td>White</td>\n",
       "      <td>Normal</td>\n",
       "      <td>Gun</td>\n",
       "      <td>Attack</td>\n",
       "      <td>Shot</td>\n",
       "      <td>Not Fleeing</td>\n",
       "      <td>Not Available</td>\n",
       "    </tr>\n",
       "    <tr>\n",
       "      <th>2</th>\n",
       "      <td>2015</td>\n",
       "      <td>Wichita</td>\n",
       "      <td>Kansas</td>\n",
       "      <td>KS</td>\n",
       "      <td>John Paul Quintero</td>\n",
       "      <td>23.0</td>\n",
       "      <td>Male</td>\n",
       "      <td>Hispanic</td>\n",
       "      <td>Normal</td>\n",
       "      <td>Unarmed</td>\n",
       "      <td>Not Attack</td>\n",
       "      <td>Shot and Tasered</td>\n",
       "      <td>Not Fleeing</td>\n",
       "      <td>Not Available</td>\n",
       "    </tr>\n",
       "    <tr>\n",
       "      <th>3</th>\n",
       "      <td>2015</td>\n",
       "      <td>San Francisco</td>\n",
       "      <td>California</td>\n",
       "      <td>CA</td>\n",
       "      <td>Matthew Hoffman</td>\n",
       "      <td>32.0</td>\n",
       "      <td>Male</td>\n",
       "      <td>White</td>\n",
       "      <td>Abnormal</td>\n",
       "      <td>Toy Weapon</td>\n",
       "      <td>Attack</td>\n",
       "      <td>Shot</td>\n",
       "      <td>Not Fleeing</td>\n",
       "      <td>Not Available</td>\n",
       "    </tr>\n",
       "    <tr>\n",
       "      <th>4</th>\n",
       "      <td>2015</td>\n",
       "      <td>Evans</td>\n",
       "      <td>Colorado</td>\n",
       "      <td>CO</td>\n",
       "      <td>Michael Rodriguez</td>\n",
       "      <td>39.0</td>\n",
       "      <td>Male</td>\n",
       "      <td>Hispanic</td>\n",
       "      <td>Normal</td>\n",
       "      <td>nail gun</td>\n",
       "      <td>Attack</td>\n",
       "      <td>Shot</td>\n",
       "      <td>Not Fleeing</td>\n",
       "      <td>Not Available</td>\n",
       "    </tr>\n",
       "  </tbody>\n",
       "</table>\n",
       "</div>"
      ],
      "text/plain": [
       "   Year           City       State State Code                Name   Age  \\\n",
       "0  2015        Shelton  Washington         WA          Tim Elliot  53.0   \n",
       "1  2015          Aloha      Oregon         OR    Lewis Lee Lembke  47.0   \n",
       "2  2015        Wichita      Kansas         KS  John Paul Quintero  23.0   \n",
       "3  2015  San Francisco  California         CA     Matthew Hoffman  32.0   \n",
       "4  2015          Evans    Colorado         CO   Michael Rodriguez  39.0   \n",
       "\n",
       "  Gender      Race Mental Illness       Armed Threat Level   Manner Of Death  \\\n",
       "0   Male     Asian       Abnormal         Gun       Attack              Shot   \n",
       "1   Male     White         Normal         Gun       Attack              Shot   \n",
       "2   Male  Hispanic         Normal     Unarmed   Not Attack  Shot and Tasered   \n",
       "3   Male     White       Abnormal  Toy Weapon       Attack              Shot   \n",
       "4   Male  Hispanic         Normal    nail gun       Attack              Shot   \n",
       "\n",
       "          Flee        Footage  \n",
       "0  Not Fleeing  Not Available  \n",
       "1  Not Fleeing  Not Available  \n",
       "2  Not Fleeing  Not Available  \n",
       "3  Not Fleeing  Not Available  \n",
       "4  Not Fleeing  Not Available  "
      ]
     },
     "execution_count": null,
     "metadata": {},
     "output_type": "execute_result"
    }
   ],
   "source": [
    "\n",
    "data[\"State\"] = data[\"state\"].replace(states)\n",
    "data[\"date\"] = pd.to_datetime(data[\"date\"])\n",
    "data[\"Year\"] = data[\"date\"].dt.year\n",
    "data[\"manner_of_death\"].replace({\"shot\":\"Shot\", \"shot and Tasered\":\"Shot and Tasered\"}, inplace = True)\n",
    "data[\"armed\"].replace({\"gun\":\"Gun\", \"knife\":\"Knife\", \"unarmed\":\"Unarmed\", \"undetermined\":\"Undetermined\", \"vehicle\":\"Vehicle\", \"toy weapon\":\"Toy Weapon\", \"unknown weapon\":\"Unknown Weapon\", \"machete\":\"Machete\"}, inplace = True)\n",
    "data[\"gender\"].replace({\"M\":\"Male\", \"F\":\"Female\"}, inplace = True)\n",
    "data[\"signs_of_mental_illness\"].replace({True:\"Abnormal\", False:\"Normal\"}, inplace = True)\n",
    "data[\"body_camera\"].replace({True:\"Available\", False:\"Not Available\"}, inplace = True)\n",
    "data[\"race\"].replace({\"W\":\"White\", \"B\":\"Black\", \"H\":\"Hispanic\", \"A\":\"Asian\", \"N\":\"Native\", \"O\":\"Other\"}, inplace = True)\n",
    "data[\"threat_level\"].replace({\"attack\":\"Attack\", \"other\":\"Not Attack\", \"undetermined\":\"Unknown\"}, inplace = True)\n",
    "data[\"flee\"].replace({\"Not fleeing\":\"Not Fleeing\", \"Other\":\"Unknown\"}, inplace = True)\n",
    "data.rename(columns={\"name\": \"Name\",\"date\": \"Date\",\"manner_of_death\": \"Manner Of Death\",\"armed\":\"Armed\",\"age\":\"Age\",\"gender\":\"Gender\",\"race\":\"Race\",\"city\":\"City\",\"state\": \"State Code\",\"signs_of_mental_illness\":\"Mental Illness\",\"threat_level\":\"Threat Level\",\"flee\":\"Flee\",\"body_camera\":\"Footage\"}, inplace = True)\n",
    "data = data[[\"Year\",\"City\",\"State\", \"State Code\",\"Name\",\"Age\",\"Gender\",\"Race\",\"Mental Illness\",\"Armed\",\"Threat Level\",\"Manner Of Death\",\"Flee\",\"Footage\"]]\n",
    "\n",
    "print(\"After preprocessing, let's have a glimpse of the final dataset :\")\n",
    "data.head()"
   ]
  },
  {
   "cell_type": "code",
   "execution_count": null,
   "metadata": {},
   "outputs": [
    {
     "data": {
      "text/html": [
       "<div>\n",
       "<style scoped>\n",
       "    .dataframe tbody tr th:only-of-type {\n",
       "        vertical-align: middle;\n",
       "    }\n",
       "\n",
       "    .dataframe tbody tr th {\n",
       "        vertical-align: top;\n",
       "    }\n",
       "\n",
       "    .dataframe thead th {\n",
       "        text-align: right;\n",
       "    }\n",
       "</style>\n",
       "<table border=\"1\" class=\"dataframe\">\n",
       "  <thead>\n",
       "    <tr style=\"text-align: right;\">\n",
       "      <th></th>\n",
       "      <th>date</th>\n",
       "      <th>manner_of_death</th>\n",
       "      <th>armed</th>\n",
       "      <th>age</th>\n",
       "      <th>gender</th>\n",
       "      <th>race</th>\n",
       "      <th>city</th>\n",
       "      <th>state</th>\n",
       "      <th>signs_of_mental_illness</th>\n",
       "      <th>threat_level</th>\n",
       "      <th>flee</th>\n",
       "      <th>body_camera</th>\n",
       "    </tr>\n",
       "  </thead>\n",
       "  <tbody>\n",
       "    <tr>\n",
       "      <th>0</th>\n",
       "      <td>2015-01-02</td>\n",
       "      <td>shot</td>\n",
       "      <td>gun</td>\n",
       "      <td>53.0</td>\n",
       "      <td>M</td>\n",
       "      <td>A</td>\n",
       "      <td>Shelton</td>\n",
       "      <td>WA</td>\n",
       "      <td>True</td>\n",
       "      <td>attack</td>\n",
       "      <td>Not fleeing</td>\n",
       "      <td>False</td>\n",
       "    </tr>\n",
       "    <tr>\n",
       "      <th>1</th>\n",
       "      <td>2015-01-02</td>\n",
       "      <td>shot</td>\n",
       "      <td>gun</td>\n",
       "      <td>47.0</td>\n",
       "      <td>M</td>\n",
       "      <td>W</td>\n",
       "      <td>Aloha</td>\n",
       "      <td>OR</td>\n",
       "      <td>False</td>\n",
       "      <td>attack</td>\n",
       "      <td>Not fleeing</td>\n",
       "      <td>False</td>\n",
       "    </tr>\n",
       "    <tr>\n",
       "      <th>2</th>\n",
       "      <td>2015-01-03</td>\n",
       "      <td>shot and Tasered</td>\n",
       "      <td>unarmed</td>\n",
       "      <td>23.0</td>\n",
       "      <td>M</td>\n",
       "      <td>H</td>\n",
       "      <td>Wichita</td>\n",
       "      <td>KS</td>\n",
       "      <td>False</td>\n",
       "      <td>other</td>\n",
       "      <td>Not fleeing</td>\n",
       "      <td>False</td>\n",
       "    </tr>\n",
       "    <tr>\n",
       "      <th>3</th>\n",
       "      <td>2015-01-04</td>\n",
       "      <td>shot</td>\n",
       "      <td>toy weapon</td>\n",
       "      <td>32.0</td>\n",
       "      <td>M</td>\n",
       "      <td>W</td>\n",
       "      <td>San Francisco</td>\n",
       "      <td>CA</td>\n",
       "      <td>True</td>\n",
       "      <td>attack</td>\n",
       "      <td>Not fleeing</td>\n",
       "      <td>False</td>\n",
       "    </tr>\n",
       "    <tr>\n",
       "      <th>4</th>\n",
       "      <td>2015-01-04</td>\n",
       "      <td>shot</td>\n",
       "      <td>nail gun</td>\n",
       "      <td>39.0</td>\n",
       "      <td>M</td>\n",
       "      <td>H</td>\n",
       "      <td>Evans</td>\n",
       "      <td>CO</td>\n",
       "      <td>False</td>\n",
       "      <td>attack</td>\n",
       "      <td>Not fleeing</td>\n",
       "      <td>False</td>\n",
       "    </tr>\n",
       "  </tbody>\n",
       "</table>\n",
       "</div>"
      ],
      "text/plain": [
       "         date   manner_of_death       armed   age gender race           city  \\\n",
       "0  2015-01-02              shot         gun  53.0      M    A        Shelton   \n",
       "1  2015-01-02              shot         gun  47.0      M    W          Aloha   \n",
       "2  2015-01-03  shot and Tasered     unarmed  23.0      M    H        Wichita   \n",
       "3  2015-01-04              shot  toy weapon  32.0      M    W  San Francisco   \n",
       "4  2015-01-04              shot    nail gun  39.0      M    H          Evans   \n",
       "\n",
       "  state  signs_of_mental_illness threat_level         flee  body_camera  \n",
       "0    WA                     True       attack  Not fleeing        False  \n",
       "1    OR                    False       attack  Not fleeing        False  \n",
       "2    KS                    False        other  Not fleeing        False  \n",
       "3    CA                     True       attack  Not fleeing        False  \n",
       "4    CO                    False       attack  Not fleeing        False  "
      ]
     },
     "execution_count": null,
     "metadata": {},
     "output_type": "execute_result"
    }
   ],
   "source": [
    "shootings_data = clean_data.drop(['name'],axis=1)\n",
    "shootings_data.head()\n"
   ]
  },
  {
   "cell_type": "markdown",
   "metadata": {},
   "source": [
    "Here, I'm trying to focus on whether the victim was armed or not and if the police had no choice but to shoot the victim. \n",
    "Therefore, I will create a new column that will access the danger level of the victim. This would be based in regards to these specific columns (armed, threat_level, signs of mental illness)"
   ]
  },
  {
   "cell_type": "code",
   "execution_count": null,
   "metadata": {},
   "outputs": [
    {
     "data": {
      "text/plain": [
       "gun                               4407\n",
       "knife                             1108\n",
       "unarmed                            456\n",
       "undetermined                       313\n",
       "vehicle                            276\n",
       "                                  ... \n",
       "pen                                  1\n",
       "chainsaw                             1\n",
       "gun and sword                        1\n",
       "claimed to be armed                  1\n",
       "knife, hammer and gasoline can       1\n",
       "Name: armed, Length: 104, dtype: int64"
      ]
     },
     "execution_count": null,
     "metadata": {},
     "output_type": "execute_result"
    }
   ],
   "source": [
    "shootings_data.armed.value_counts()"
   ]
  },
  {
   "cell_type": "code",
   "execution_count": null,
   "metadata": {},
   "outputs": [
    {
     "data": {
      "text/plain": [
       "array(['gun', 'unarmed', 'toy weapon', 'nail gun', 'knife', nan, 'shovel',\n",
       "       'vehicle', 'hammer', 'hatchet', 'sword', 'machete', 'box cutter',\n",
       "       'undetermined', 'metal object', 'screwdriver', 'lawn mower blade',\n",
       "       'flagpole', 'guns and explosives', 'cordless drill', 'crossbow',\n",
       "       'BB gun', 'metal pole', 'Taser', 'metal pipe', 'metal hand tool',\n",
       "       'blunt object', 'metal stick', 'sharp object', 'meat cleaver',\n",
       "       'carjack', 'chain', \"contractor's level\", 'railroad spikes',\n",
       "       'stapler', 'beer bottle', 'unknown weapon', 'binoculars',\n",
       "       'pellet gun', 'bean-bag gun', 'baseball bat and fireplace poker',\n",
       "       'straight edge razor', 'gun and knife', 'ax', 'brick',\n",
       "       'baseball bat', 'hand torch', 'chain saw', 'garden tool',\n",
       "       'pair of scissors', 'pole', 'pick-axe', 'flashlight', 'baton',\n",
       "       'spear', 'chair', 'pitchfork', 'hatchet and gun', 'rock',\n",
       "       'piece of wood', 'pipe', 'glass shard', 'motorcycle',\n",
       "       'pepper spray', 'metal rake', 'crowbar', 'oar', 'machete and gun',\n",
       "       'tire iron', 'air conditioner', 'pole and knife',\n",
       "       'baseball bat and bottle', 'fireworks', 'pen', 'chainsaw',\n",
       "       'gun and sword', 'gun and car', 'claimed to be armed',\n",
       "       'incendiary device', 'samurai sword', 'bow and arrow',\n",
       "       'gun and vehicle', 'vehicle and gun', 'wrench', 'walking stick',\n",
       "       'barstool', 'BB gun and vehicle', 'wasp spray', 'air pistol',\n",
       "       'Airsoft pistol', 'baseball bat and knife', 'vehicle and machete',\n",
       "       'ice pick', 'car, knife and mace', 'bottle', 'gun and machete',\n",
       "       'microphone', 'knife and vehicle', 'machete and hammer', 'stake',\n",
       "       'incendiary weapon', 'ax and machete', 'hammer and garden tool',\n",
       "       'flare gun', 'knife, hammer and gasoline can'], dtype=object)"
      ]
     },
     "execution_count": null,
     "metadata": {},
     "output_type": "execute_result"
    }
   ],
   "source": [
    "shootings_data['armed'].unique()"
   ]
  },
  {
   "cell_type": "markdown",
   "metadata": {},
   "source": [
    "Since there are so many various weapons that the victims possess, we will divide it into weather the victim was armed or not and even change the column name to 'armed/unarmed'."
   ]
  },
  {
   "cell_type": "code",
   "execution_count": null,
   "metadata": {},
   "outputs": [
    {
     "data": {
      "text/plain": [
       "count      7729\n",
       "unique        2\n",
       "top       armed\n",
       "freq       7273\n",
       "Name: armed/unarmed, dtype: object"
      ]
     },
     "execution_count": null,
     "metadata": {},
     "output_type": "execute_result"
    }
   ],
   "source": [
    "weapons_type = list(shootings_data['armed'].unique())\n",
    "\n",
    "weapons_type.remove('unarmed')\n",
    "\n",
    "def weapon(armed):\n",
    "    if armed in weapons_type:\n",
    "        return 'armed'\n",
    "    else:\n",
    "        return 'unarmed'\n",
    "    \n",
    "shootings_data['armed'] = shootings_data['armed'].apply(weapon)\n",
    "shootings_data = shootings_data.rename(columns={'armed': 'armed/unarmed'})\n",
    "shootings_data['armed/unarmed'].describe()"
   ]
  },
  {
   "cell_type": "markdown",
   "metadata": {},
   "source": [
    "As mentioned in my research question, I would focus more on the unarmed victims therefore, making edits to the armed column will help me make better observations in the dataset. "
   ]
  },
  {
   "cell_type": "code",
   "execution_count": null,
   "metadata": {},
   "outputs": [
    {
     "data": {
      "text/html": [
       "<div>\n",
       "<style scoped>\n",
       "    .dataframe tbody tr th:only-of-type {\n",
       "        vertical-align: middle;\n",
       "    }\n",
       "\n",
       "    .dataframe tbody tr th {\n",
       "        vertical-align: top;\n",
       "    }\n",
       "\n",
       "    .dataframe thead th {\n",
       "        text-align: right;\n",
       "    }\n",
       "</style>\n",
       "<table border=\"1\" class=\"dataframe\">\n",
       "  <thead>\n",
       "    <tr style=\"text-align: right;\">\n",
       "      <th></th>\n",
       "      <th>Name</th>\n",
       "      <th>Date</th>\n",
       "      <th>Manner of Death</th>\n",
       "      <th>Armed</th>\n",
       "      <th>age</th>\n",
       "      <th>gender</th>\n",
       "      <th>race</th>\n",
       "      <th>city</th>\n",
       "      <th>state</th>\n",
       "      <th>signs_of_mental_illness</th>\n",
       "      <th>threat_level</th>\n",
       "      <th>flee</th>\n",
       "      <th>body_camera</th>\n",
       "    </tr>\n",
       "  </thead>\n",
       "  <tbody>\n",
       "    <tr>\n",
       "      <th>0</th>\n",
       "      <td>Tim Elliot</td>\n",
       "      <td>2015-01-02</td>\n",
       "      <td>shot</td>\n",
       "      <td>gun</td>\n",
       "      <td>53.0</td>\n",
       "      <td>M</td>\n",
       "      <td>A</td>\n",
       "      <td>Shelton</td>\n",
       "      <td>WA</td>\n",
       "      <td>True</td>\n",
       "      <td>attack</td>\n",
       "      <td>Not fleeing</td>\n",
       "      <td>False</td>\n",
       "    </tr>\n",
       "    <tr>\n",
       "      <th>1</th>\n",
       "      <td>Lewis Lee Lembke</td>\n",
       "      <td>2015-01-02</td>\n",
       "      <td>shot</td>\n",
       "      <td>gun</td>\n",
       "      <td>47.0</td>\n",
       "      <td>M</td>\n",
       "      <td>W</td>\n",
       "      <td>Aloha</td>\n",
       "      <td>OR</td>\n",
       "      <td>False</td>\n",
       "      <td>attack</td>\n",
       "      <td>Not fleeing</td>\n",
       "      <td>False</td>\n",
       "    </tr>\n",
       "    <tr>\n",
       "      <th>2</th>\n",
       "      <td>John Paul Quintero</td>\n",
       "      <td>2015-01-03</td>\n",
       "      <td>shot and Tasered</td>\n",
       "      <td>unarmed</td>\n",
       "      <td>23.0</td>\n",
       "      <td>M</td>\n",
       "      <td>H</td>\n",
       "      <td>Wichita</td>\n",
       "      <td>KS</td>\n",
       "      <td>False</td>\n",
       "      <td>other</td>\n",
       "      <td>Not fleeing</td>\n",
       "      <td>False</td>\n",
       "    </tr>\n",
       "    <tr>\n",
       "      <th>3</th>\n",
       "      <td>Matthew Hoffman</td>\n",
       "      <td>2015-01-04</td>\n",
       "      <td>shot</td>\n",
       "      <td>toy weapon</td>\n",
       "      <td>32.0</td>\n",
       "      <td>M</td>\n",
       "      <td>W</td>\n",
       "      <td>San Francisco</td>\n",
       "      <td>CA</td>\n",
       "      <td>True</td>\n",
       "      <td>attack</td>\n",
       "      <td>Not fleeing</td>\n",
       "      <td>False</td>\n",
       "    </tr>\n",
       "    <tr>\n",
       "      <th>4</th>\n",
       "      <td>Michael Rodriguez</td>\n",
       "      <td>2015-01-04</td>\n",
       "      <td>shot</td>\n",
       "      <td>nail gun</td>\n",
       "      <td>39.0</td>\n",
       "      <td>M</td>\n",
       "      <td>H</td>\n",
       "      <td>Evans</td>\n",
       "      <td>CO</td>\n",
       "      <td>False</td>\n",
       "      <td>attack</td>\n",
       "      <td>Not fleeing</td>\n",
       "      <td>False</td>\n",
       "    </tr>\n",
       "    <tr>\n",
       "      <th>...</th>\n",
       "      <td>...</td>\n",
       "      <td>...</td>\n",
       "      <td>...</td>\n",
       "      <td>...</td>\n",
       "      <td>...</td>\n",
       "      <td>...</td>\n",
       "      <td>...</td>\n",
       "      <td>...</td>\n",
       "      <td>...</td>\n",
       "      <td>...</td>\n",
       "      <td>...</td>\n",
       "      <td>...</td>\n",
       "      <td>...</td>\n",
       "    </tr>\n",
       "    <tr>\n",
       "      <th>7473</th>\n",
       "      <td>Daniel Raymond Honeycutt</td>\n",
       "      <td>2022-06-10</td>\n",
       "      <td>shot</td>\n",
       "      <td>gun</td>\n",
       "      <td>38.0</td>\n",
       "      <td>M</td>\n",
       "      <td>W</td>\n",
       "      <td>Elizabethton</td>\n",
       "      <td>TN</td>\n",
       "      <td>False</td>\n",
       "      <td>other</td>\n",
       "      <td>Not fleeing</td>\n",
       "      <td>False</td>\n",
       "    </tr>\n",
       "    <tr>\n",
       "      <th>7492</th>\n",
       "      <td>Derrick D. Clark</td>\n",
       "      <td>2022-06-18</td>\n",
       "      <td>shot</td>\n",
       "      <td>gun</td>\n",
       "      <td>24.0</td>\n",
       "      <td>M</td>\n",
       "      <td>B</td>\n",
       "      <td>Milwaukie</td>\n",
       "      <td>OR</td>\n",
       "      <td>False</td>\n",
       "      <td>other</td>\n",
       "      <td>Car</td>\n",
       "      <td>False</td>\n",
       "    </tr>\n",
       "    <tr>\n",
       "      <th>7500</th>\n",
       "      <td>Frank Baty</td>\n",
       "      <td>2022-06-19</td>\n",
       "      <td>shot</td>\n",
       "      <td>toy weapon</td>\n",
       "      <td>58.0</td>\n",
       "      <td>M</td>\n",
       "      <td>B</td>\n",
       "      <td>Albuquerque</td>\n",
       "      <td>NM</td>\n",
       "      <td>True</td>\n",
       "      <td>other</td>\n",
       "      <td>Not fleeing</td>\n",
       "      <td>False</td>\n",
       "    </tr>\n",
       "    <tr>\n",
       "      <th>7691</th>\n",
       "      <td>Samuel Paul Ranson</td>\n",
       "      <td>2022-08-27</td>\n",
       "      <td>shot</td>\n",
       "      <td>gun</td>\n",
       "      <td>50.0</td>\n",
       "      <td>M</td>\n",
       "      <td>W</td>\n",
       "      <td>Charleston</td>\n",
       "      <td>WV</td>\n",
       "      <td>False</td>\n",
       "      <td>attack</td>\n",
       "      <td>Not fleeing</td>\n",
       "      <td>False</td>\n",
       "    </tr>\n",
       "    <tr>\n",
       "      <th>7702</th>\n",
       "      <td>Donovan Lewis</td>\n",
       "      <td>2022-08-30</td>\n",
       "      <td>shot</td>\n",
       "      <td>unarmed</td>\n",
       "      <td>20.0</td>\n",
       "      <td>M</td>\n",
       "      <td>B</td>\n",
       "      <td>Columbus</td>\n",
       "      <td>OH</td>\n",
       "      <td>False</td>\n",
       "      <td>undetermined</td>\n",
       "      <td>Not fleeing</td>\n",
       "      <td>True</td>\n",
       "    </tr>\n",
       "  </tbody>\n",
       "</table>\n",
       "<p>5070 rows × 13 columns</p>\n",
       "</div>"
      ],
      "text/plain": [
       "                          Name        Date   Manner of Death       Armed  \\\n",
       "0                   Tim Elliot  2015-01-02              shot         gun   \n",
       "1             Lewis Lee Lembke  2015-01-02              shot         gun   \n",
       "2           John Paul Quintero  2015-01-03  shot and Tasered     unarmed   \n",
       "3              Matthew Hoffman  2015-01-04              shot  toy weapon   \n",
       "4            Michael Rodriguez  2015-01-04              shot    nail gun   \n",
       "...                        ...         ...               ...         ...   \n",
       "7473  Daniel Raymond Honeycutt  2022-06-10              shot         gun   \n",
       "7492          Derrick D. Clark  2022-06-18              shot         gun   \n",
       "7500                Frank Baty  2022-06-19              shot  toy weapon   \n",
       "7691        Samuel Paul Ranson  2022-08-27              shot         gun   \n",
       "7702             Donovan Lewis  2022-08-30              shot     unarmed   \n",
       "\n",
       "       age gender race           city state  signs_of_mental_illness  \\\n",
       "0     53.0      M    A        Shelton    WA                     True   \n",
       "1     47.0      M    W          Aloha    OR                    False   \n",
       "2     23.0      M    H        Wichita    KS                    False   \n",
       "3     32.0      M    W  San Francisco    CA                     True   \n",
       "4     39.0      M    H          Evans    CO                    False   \n",
       "...    ...    ...  ...            ...   ...                      ...   \n",
       "7473  38.0      M    W   Elizabethton    TN                    False   \n",
       "7492  24.0      M    B      Milwaukie    OR                    False   \n",
       "7500  58.0      M    B    Albuquerque    NM                     True   \n",
       "7691  50.0      M    W     Charleston    WV                    False   \n",
       "7702  20.0      M    B       Columbus    OH                    False   \n",
       "\n",
       "      threat_level         flee  body_camera  \n",
       "0           attack  Not fleeing        False  \n",
       "1           attack  Not fleeing        False  \n",
       "2            other  Not fleeing        False  \n",
       "3           attack  Not fleeing        False  \n",
       "4           attack  Not fleeing        False  \n",
       "...            ...          ...          ...  \n",
       "7473         other  Not fleeing        False  \n",
       "7492         other          Car        False  \n",
       "7500         other  Not fleeing        False  \n",
       "7691        attack  Not fleeing        False  \n",
       "7702  undetermined  Not fleeing         True  \n",
       "\n",
       "[5070 rows x 13 columns]"
      ]
     },
     "execution_count": null,
     "metadata": {},
     "output_type": "execute_result"
    }
   ],
   "source": [
    "import project_functions2 as p2\n",
    "df = p2.load_and_process(\"../data/US Police shootings in from 2015-22 2.csv\")\n",
    "df"
   ]
  },
  {
   "cell_type": "markdown",
   "metadata": {},
   "source": [
    "# Task 4: Data Analysis"
   ]
  },
  {
   "cell_type": "markdown",
   "metadata": {},
   "source": [
    "## Shooting descriptions"
   ]
  },
  {
   "cell_type": "markdown",
   "metadata": {},
   "source": [
    "First, we will focus on the shooting descriptions. Using the processed data above, I will find out how many victims were armed and try to understand why the police had to shoot them. We'll find out the different manners in which the victims were killed."
   ]
  },
  {
   "cell_type": "markdown",
   "metadata": {},
   "source": [
    "### Manner of death"
   ]
  },
  {
   "cell_type": "code",
   "execution_count": null,
   "metadata": {},
   "outputs": [
    {
     "data": {
      "image/png": "[encoded data removed]",
      "text/plain": [
       "<Figure size 576x576 with 1 Axes>"
      ]
     },
     "metadata": {},
     "output_type": "display_data"
    },
    {
     "name": "stdout",
     "output_type": "stream",
     "text": [
      "shot                7390\n",
      "shot and Tasered     339\n",
      "Name: manner_of_death, dtype: int64\n"
     ]
    }
   ],
   "source": [
    "\n",
    "plt.figure(figsize=(8,8))\n",
    "plt.pie(raw_data.manner_of_death.value_counts(), labels=['shot', 'shot and tasered'],autopct='%1.2f%%', shadow = True,textprops=dict(size= 16, color= \"black\"))\n",
    "plt.title(\"Manner of death\",fontsize=25)\n",
    "plt.legend()\n",
    "plt.show()\n",
    "print(raw_data.manner_of_death.value_counts())\n"
   ]
  },
  {
   "cell_type": "markdown",
   "metadata": {},
   "source": [
    "With the data visualization above, we can observe that the US police either shot or shot and tasered the vcitims. Over **95.61%** of these victims were shot while the other were shot and tasered. However, over 10% of the victims were unarmed (data shown above) and there should have been a good justification for the police to shoot them. They could either be fleeing or maybe tried to attack the police without the use of weapons therefore, they required to shoot them in that moment."
   ]
  },
  {
   "cell_type": "markdown",
   "metadata": {},
   "source": [
    "To further analyse if the police were right in their approach, we will look into whether the **unarmed victims** were fleeing or not. First we will visualize all the victims and then dig deeper to analyse only the unarmed victims. "
   ]
  },
  {
   "cell_type": "code",
   "execution_count": null,
   "metadata": {},
   "outputs": [
    {
     "data": {
      "image/png": "[encoded data removed]",
      "text/plain": [
       "<Figure size 576x576 with 1 Axes>"
      ]
     },
     "metadata": {},
     "output_type": "display_data"
    },
    {
     "data": {
      "text/plain": [
       "Not fleeing    4336\n",
       "Car            1249\n",
       "Foot            982\n",
       "Other           287\n",
       "Name: flee, dtype: int64"
      ]
     },
     "execution_count": null,
     "metadata": {},
     "output_type": "execute_result"
    }
   ],
   "source": [
    "plt.figure(figsize=(8,8))\n",
    "plt.pie(raw_data.flee.value_counts(), labels=['Not Fleeing', 'Car', 'Foot', 'Other'],autopct='%1.2f%%',shadow = True,textprops=dict(size= 18, color= \"white\"))\n",
    "plt.legend()\n",
    "plt.title(\"Were they fleeing or not?\",fontsize=25)\n",
    "plt.show()\n",
    "raw_data.flee.value_counts()"
   ]
  },
  {
   "cell_type": "markdown",
   "metadata": {},
   "source": [
    "### How many unarmed victims fled the scene?"
   ]
  },
  {
   "cell_type": "code",
   "execution_count": null,
   "metadata": {},
   "outputs": [
    {
     "data": {
      "text/plain": [
       "Text(0, 0.5, 'Number of shootings')"
      ]
     },
     "execution_count": null,
     "metadata": {},
     "output_type": "execute_result"
    },
    {
     "data": {
      "image/png": "[encoded data removed]",
      "text/plain": [
       "<Figure size 720x432 with 1 Axes>"
      ]
     },
     "metadata": {
      "needs_background": "light"
     },
     "output_type": "display_data"
    }
   ],
   "source": [
    "import seaborn as sns\n",
    "mydata = shootings_data[shootings_data['armed/unarmed']=='unarmed']\n",
    "plt.subplots(figsize=(10,6))\n",
    "p=sns.countplot(data=mydata, y='flee', order=mydata[\"flee\"].value_counts().index,).set_title(\"How many unarmed victims fled the scene?\",fontsize=25)\n",
    "p.axes.set_xlabel(\"Means of Fleeing\",fontsize=20)\n",
    "p.axes.set_ylabel(\"Number of shootings\",fontsize=20)\n",
    "\n"
   ]
  },
  {
   "cell_type": "markdown",
   "metadata": {},
   "source": [
    "Now, here we can see that around 250 victims were unarmed and not fleeing, yet they were still shot. This shows inconsistencies with the power the police holds and how they are supposed to use it. We still do not know the whole story therefore, can not assume that the police was wrong in doing so since there are databases that consists of the description of the shooting and it also has the statement of the police and any witnesses. We do not have access to these databases therefore, cannot analyse the whole situation and have to make hence, make assumptions. "
   ]
  },
  {
   "cell_type": "markdown",
   "metadata": {},
   "source": [
    "Now, we will look into if the police had body cams on them when the shootings of the unarmed victims occured. "
   ]
  },
  {
   "cell_type": "markdown",
   "metadata": {},
   "source": [
    "### Were the police wearing body cams?"
   ]
  },
  {
   "cell_type": "code",
   "execution_count": null,
   "metadata": {},
   "outputs": [
    {
     "name": "stdout",
     "output_type": "stream",
     "text": [
      "Let's have a look on the occurances' visual document recordings :\n"
     ]
    },
    {
     "data": {
      "image/png": "[encoded data removed]",
      "text/plain": [
       "<Figure size 720x432 with 1 Axes>"
      ]
     },
     "metadata": {
      "needs_background": "light"
     },
     "output_type": "display_data"
    }
   ],
   "source": [
    "print(\"Let's have a look on the occurances' visual document recordings :\")\n",
    "plt.subplots(figsize=(10, 6))\n",
    "p=sns.countplot(y=mydata[\"body_camera\"],order=mydata[\"body_camera\"].value_counts().index, saturation=1, edgecolor = \"black\", linewidth = 8)\n",
    "p.axes.set_title(\"\\nNumber of shootings\\n\",fontsize=25)\n",
    "p.axes.set_ylabel(\"\\nBody Cam\",fontsize=20)\n",
    "p.axes.set_xlabel(\"Total\",fontsize=20)\n",
    "for container in p.containers:\n",
    "    p.bar_label(container,label_type=\"center\",padding=6,size=20,color=\"black\")\n",
    "\n",
    "plt.show()"
   ]
  },
  {
   "cell_type": "markdown",
   "metadata": {},
   "source": [
    "Here, we can observe that 359 shootings took place where the victims were unarmed and there was no body cam. There is no way to prove the credibility of the police in this case therefore, it should be made a compulsion to where body cams so that there is evidence and crediblilty and the situation could be acessed way better. "
   ]
  },
  {
   "cell_type": "markdown",
   "metadata": {},
   "source": [
    "## Race & Age "
   ]
  },
  {
   "cell_type": "markdown",
   "metadata": {},
   "source": [
    "Now, we will analyse the race of the unarmed victims and loook for any trends between the race of the victim and the number of killings. Again here we will use unarmed victims since there should technically we no reason to shoot them. However, we can not to be sure since we do not have access the statement of the police or any witnesses. "
   ]
  },
  {
   "cell_type": "code",
   "execution_count": null,
   "metadata": {},
   "outputs": [
    {
     "name": "stdout",
     "output_type": "stream",
     "text": [
      "Let's have a look on the ratio of victims' race :\n"
     ]
    },
    {
     "data": {
      "image/png": "[encoded data removed]",
      "text/plain": [
       "<Figure size 504x504 with 1 Axes>"
      ]
     },
     "metadata": {},
     "output_type": "display_data"
    }
   ],
   "source": [
    "import numpy as np\n",
    "import pandas as pd\n",
    "import matplotlib.pylab as plt\n",
    "import seaborn as sns\n",
    "print(f\"Let's have a look on the ratio of victims' race :\")\n",
    "plt.subplots(figsize=(7, 7))\n",
    "\n",
    "labels = \"White\",\"Black\",\"Hispanic\",\"Asian\",\"Native\",\"Other\"\n",
    "size = 0.5\n",
    "\n",
    "wedges, texts, autotexts = plt.pie([mydata[\"race\"].value_counts().values[0],\n",
    "                                    mydata[\"race\"].value_counts().values[1],\n",
    "                                    mydata[\"race\"].value_counts().values[2],\n",
    "                                    mydata[\"race\"].value_counts().values[3],\n",
    "                                    mydata[\"race\"].value_counts().values[4],\n",
    "                                    mydata[\"race\"].value_counts().values[5]],\n",
    "                                    explode = (0,0,0,0.6,0.6,0.6),\n",
    "                                    textprops=dict(size= 20, color= \"white\"),\n",
    "                                    autopct=\"%.2f%%\", \n",
    "                                    pctdistance = 0.72,\n",
    "                                    radius=.9, \n",
    "                                    shadow = True,\n",
    "                                    wedgeprops=dict(width = size, edgecolor = \"black\", \n",
    "                                    linewidth = 4),\n",
    "                                    startangle = 0)\n",
    "\n",
    "plt.legend(wedges, labels, title = \"Race Status\")\n",
    "plt.title(\"\\nVictims' Race Status\",fontsize=25)\n",
    "plt.savefig(\"race1.png\", dpi=300, bbox_inches='tight',facecolor=\"white\")\n",
    "plt.show()\n"
   ]
  },
  {
   "cell_type": "code",
   "execution_count": null,
   "metadata": {},
   "outputs": [
    {
     "name": "stdout",
     "output_type": "stream",
     "text": [
      "Let's have a look on the victims' race status :\n"
     ]
    },
    {
     "data": {
      "image/png": "[encoded data removed]",
      "text/plain": [
       "<Figure size 720x576 with 1 Axes>"
      ]
     },
     "metadata": {
      "needs_background": "light"
     },
     "output_type": "display_data"
    }
   ],
   "source": [
    "print(\"Let's have a look on the victims' race status :\")\n",
    "plt.subplots(figsize=(10, 8))\n",
    "p=sns.countplot(x=mydata[\"race\"],order=mydata[\"race\"].value_counts().index, saturation=1, edgecolor = \"black\", linewidth = 5)\n",
    "p.axes.set_yscale(\"symlog\")\n",
    "p.axes.set_title(\"\\nVictims' Race Status\\n\",fontsize=25)\n",
    "p.axes.set_xlabel(\"\\nRace Status\",fontsize=20)\n",
    "p.axes.set_ylabel(\"Total\",fontsize=20)\n",
    "p.axes.set_xticklabels(p.get_xticklabels(),rotation = 0,fontsize=16)\n",
    "for container in p.containers:\n",
    "    p.bar_label(container,label_type=\"center\",padding=6,size=30,color=\"black\")\n",
    "\n",
    "plt.savefig(\"race2.png\", dpi=300, bbox_inches='tight',facecolor=\"white\")\n",
    "plt.show()\n"
   ]
  },
  {
   "cell_type": "markdown",
   "metadata": {},
   "source": [
    "With the above visusals and data, we can observe that most unarmed victims were White followed by Black and Hispanics. In most cases,these do not necessarily show any trends since most the number of shooting of each race coincides with the population of the race in the country. However, we can see that almost 35% of the unarmed victims were black which is more than twice the population of black people in the country. The graphic below can prove the same.\n",
    "\n",
    "![Population of the Race in the U.S](../images/USpop.png)"
   ]
  },
  {
   "cell_type": "markdown",
   "metadata": {},
   "source": [
    "We will now observe and find any trends between the age of the unarmed victims and the number of shootings in the U.S."
   ]
  },
  {
   "cell_type": "code",
   "execution_count": null,
   "metadata": {},
   "outputs": [
    {
     "name": "stdout",
     "output_type": "stream",
     "text": [
      "Let's have a look on the distribution of victims' age :\n"
     ]
    },
    {
     "data": {
      "image/png": "[encoded data removed]",
      "text/plain": [
       "<Figure size 1152x432 with 1 Axes>"
      ]
     },
     "metadata": {
      "needs_background": "light"
     },
     "output_type": "display_data"
    }
   ],
   "source": [
    "print(f\"Let's have a look on the distribution of victims' age :\")\n",
    "plt.subplots(figsize=(16, 6))\n",
    "p = sns.histplot(data=mydata,x=\"age\",multiple=\"stack\",kde=True,bins=30,alpha=1,fill=True,edgecolor=\"black\",linewidth=3)\n",
    "p.axes.lines[0].set_color(\"yellow\")\n",
    "p.axes.set_title(\"\\nVictims' Age Distribution\\n\",fontsize=25)\n",
    "plt.ylabel(\"Count\",fontsize=20)\n",
    "plt.xlabel(\"\\nAge [Year]\",fontsize=20)\n",
    "plt.savefig(\"age.png\", dpi=300, bbox_inches='tight', facecolor=\"white\")\n",
    "plt.show()"
   ]
  },
  {
   "cell_type": "code",
   "execution_count": null,
   "metadata": {},
   "outputs": [
    {
     "name": "stdout",
     "output_type": "stream",
     "text": [
      "Let's have a look on the distribution of genderwise victims' age :\n"
     ]
    },
    {
     "data": {
      "image/png": "[encoded data removed]",
      "text/plain": [
       "<Figure size 1080x360 with 1 Axes>"
      ]
     },
     "metadata": {
      "needs_background": "light"
     },
     "output_type": "display_data"
    }
   ],
   "source": [
    "print(\"Let's have a look on the distribution of genderwise victims' age :\")\n",
    "plt.subplots(figsize=(15, 5))\n",
    "\n",
    "p=sns.violinplot(data=data,x=\"Gender\",y=\"Age\",order=data[\"Gender\"].value_counts(ascending=True).index,linewidth=4,edgecolor=\"black\")\n",
    "p.axes.set_title(\"\\nVictims' Age On Gender\\n\",fontsize=25)\n",
    "p.axes.set_xlabel(\"\\nGender\",fontsize=20)\n",
    "p.axes.set_ylabel(\"Age\",fontsize=20)\n",
    "\n",
    "plt.show()\n"
   ]
  },
  {
   "cell_type": "markdown",
   "metadata": {},
   "source": [
    "We can observe the distribution of the age of the victims. Both the figures above, show that the distribution of age for both genders is between 20 - 40 years roughly. "
   ]
  },
  {
   "cell_type": "markdown",
   "metadata": {},
   "source": [
    "## Location "
   ]
  },
  {
   "cell_type": "markdown",
   "metadata": {},
   "source": [
    "Since, we have made some observations regarding trends related to race, we will now analyse the trends (if any) related to the location of the shooting. "
   ]
  },
  {
   "cell_type": "code",
   "execution_count": null,
   "metadata": {},
   "outputs": [
    {
     "name": "stdout",
     "output_type": "stream",
     "text": [
      "Let's have a look on the states of occurances :\n"
     ]
    },
    {
     "data": {
      "image/png": "[encoded data removed]",
      "text/plain": [
       "<Figure size 720x576 with 1 Axes>"
      ]
     },
     "metadata": {
      "needs_background": "light"
     },
     "output_type": "display_data"
    }
   ],
   "source": [
    "\n",
    "print(\"Let's have a look on the states of occurances :\")\n",
    "plt.subplots(figsize=(10, 8))\n",
    "p=sns.countplot(y=data[\"State\"],order=data[\"State\"].value_counts(ascending=False).index[:10], saturation=1, linewidth = 5)\n",
    "p.axes.set_title(\"\\nStates Of Occurances\\n\",fontsize=25)\n",
    "p.axes.set_ylabel(\"State\",fontsize=22)\n",
    "p.axes.set_xlabel(\"\\nTotal Occurance\",fontsize=22)\n",
    "p.axes.set_yticklabels(p.get_yticklabels(),rotation = 0,fontsize=16)\n",
    "for container in p.containers:\n",
    "    p.bar_label(container,label_type=\"edge\",padding=4,size=24,color=\"black\")\n",
    "    \n",
    "\n",
    "plt.show()"
   ]
  },
  {
   "cell_type": "markdown",
   "metadata": {},
   "source": [
    "Here, we have only displayed the first 10 states since these are the states where most of the killings took place. After observing the countplot, we see no particular trends between the states and incidents that took place. California, Texas and Florida are the three states in the US with the most crime rate and therefore, more shootings taking place in these states. \n",
    "Furthermore, as we can see below, we observe similar trends when we only take **unarmed victims** into account. "
   ]
  },
  {
   "cell_type": "code",
   "execution_count": null,
   "metadata": {},
   "outputs": [
    {
     "name": "stdout",
     "output_type": "stream",
     "text": [
      "Let's have a look on the states of occurances for unarmed victims:\n"
     ]
    },
    {
     "data": {
      "image/png": "[encoded data removed]",
      "text/plain": [
       "<Figure size 720x576 with 1 Axes>"
      ]
     },
     "metadata": {
      "needs_background": "light"
     },
     "output_type": "display_data"
    }
   ],
   "source": [
    "print(\"Let's have a look on the states of occurances for unarmed victims:\")\n",
    "plt.subplots(figsize=(10, 8))\n",
    "p=sns.countplot(y=mydata[\"state\"],order=mydata[\"state\"].value_counts(ascending=False).index[:10], saturation=1, linewidth = 5)\n",
    "p.axes.set_title(\"\\nStates Of Occurances\\n\",fontsize=25)\n",
    "p.axes.set_ylabel(\"State\",fontsize=22)\n",
    "p.axes.set_xlabel(\"\\nTotal Occurance of unarmed victims shootings\",fontsize=22)\n",
    "p.axes.set_yticklabels(p.get_yticklabels(),rotation = 0,fontsize=16)\n",
    "for container in p.containers:\n",
    "    p.bar_label(container,label_type=\"edge\",padding=4,size=24,color=\"black\")\n",
    "    \n",
    "\n",
    "plt.show()"
   ]
  },
  {
   "cell_type": "markdown",
   "metadata": {},
   "source": [
    "### Timeline "
   ]
  },
  {
   "cell_type": "markdown",
   "metadata": {},
   "source": [
    "Now, we will plot the shootings during the time period 2015 - 2022. We will do so to analyse any trends in the lineplot seen below. "
   ]
  },
  {
   "cell_type": "code",
   "execution_count": null,
   "metadata": {},
   "outputs": [
    {
     "name": "stdout",
     "output_type": "stream",
     "text": [
      "Let's have a look on the timeline of occurances :\n"
     ]
    },
    {
     "data": {
      "image/png": "[encoded data removed]",
      "text/plain": [
       "<Figure size 1008x432 with 1 Axes>"
      ]
     },
     "metadata": {
      "needs_background": "light"
     },
     "output_type": "display_data"
    }
   ],
   "source": [
    "print(f\"Let's have a look on the timeline of occurances :\")\n",
    "plt.subplots(figsize=(14,6))\n",
    "\n",
    "p=sns.lineplot(x=data[\"Year\"].value_counts().index ,y=data[\"Year\"].value_counts().values,marker=\"o\",linewidth=20,markersize=25,markerfacecolor=\"orange\",markeredgecolor=\"black\",markeredgewidth=5)\n",
    "p.axes.set_title(\"\\nYear-wise Occurances\\n\",fontsize=25)\n",
    "p.axes.set_xlabel(\"\\nYear\",fontsize=20)\n",
    "p.axes.set_ylabel(\"Occurance\",fontsize=20)\n",
    "plt.show()"
   ]
  },
  {
   "cell_type": "markdown",
   "metadata": {},
   "source": [
    "As we can see, there is a big drop from 2020 - 2022. To understand a significant drop in the number of shootings, we would look into the situation of the U.S to determine what caused the drop. \n"
   ]
  },
  {
   "cell_type": "markdown",
   "metadata": {},
   "source": [
    "From 2020 - 2022, there was one signifcant event that took place in the U.S which could have impacted the trends in the number of shooting. It was known as the: \n",
    "- **Black Lives Matter (BLM) Movement:** BLM movement could have impacted the number of shootings in the States. After the tragic death of George Floyd, the movement spread awareness throughout the world about the racism prevalent in the system and the BLM protests may have this effect because they pushed police departments to adopt reforms such as body cams or community policing. Many cities with larger and more frequent BLM protests experienced greater declines in police homicides."
   ]
  },
  {
   "cell_type": "markdown",
   "metadata": {},
   "source": [
    "Although, there are other events that could have impacted the shootings from 2020-2022 such as the onset of the pandemic and the change in presidency in the States. I believe that the BLM movement had the greatest impact in reducing shootings and encouraging police reforms. The movement was directed towards the poilce unlike other events and therefore, they should have had the most impact.  "
   ]
  },
  {
   "cell_type": "markdown",
   "metadata": {},
   "source": [
    "- **The onset of the pandemic:** The onset of the pandemic could have definetly impacted the shootings since the crime rate also reduced during the pandemic. Crime was less since people stayed mostly indoors and therefore, it could have decreased the shootings in the U.S.\n",
    "- **The change in Presidency in the U.S:** Th change in presidency from Trump to Biden could also have impacted the number of shootings since Trump did not hold the poilce accountable whereas when Biden stepped in, he enforced more police reforms and was in support of the BLM movement which could have reduced the shootings in the U.S. "
   ]
  },
  {
   "cell_type": "markdown",
   "metadata": {},
   "source": [
    "## Conclusion"
   ]
  },
  {
   "cell_type": "markdown",
   "metadata": {},
   "source": [
    "With the above data analysis and data vizualization, we can answer the following research questions:\n",
    "\n",
    "**How many unarmed victims were shot?** \n",
    "\n",
    "After observing the trends in the dataset, we found that over 10% of the victims were unarmed. We then, analysed if these victims were fleeing and it showed that around 250 victims were unarmed and not fleeing, yet they were still shot. Additionally, over 359 unarmed victims were shot and the poilce were wearing no body cameras to give crebility to their statements. Therefore, this shows that the government needs more reforms and make wearing body cameras a necessity so that they can access the situation easily. \n",
    "\n",
    "**Are there any trends between trends between the race & age of the victims and the number of shootings ocurred?**\n",
    "\n",
    "With the above visusals and data, we can observe that most unarmed victims were White followed by Black and Hispanics. In most cases,these do not necessarily show any trends since most the number of shooting of each race coincides with the population of the race in the country. However, we can see that almost 35% of the unarmed victims were black which is more than twice the population of black people in the country. This could imply that there is racism that exists within the country, however again, we can not access the situation accurately due to the unavailability of other datasbases. \n",
    "\n",
    "\n",
    "**Where (in which states) did the shootings occur?**\n",
    "\n",
    "The shootings occurred in the states with the most crime rate in the United States therefore, there is are no major observations here since they coincide with the crime rate in the states. \n",
    "\n",
    "**Have the number of shootings in the United States decrease from 2015 - 2022?**\n",
    "\n",
    "The number of shoootings gradually deacresed from 2015 - 2020 however, after that we observed a major dip in the number of shootings, this could be potentially because of the BLM protests in the country and other significant events such as the COVID-19 pandemic and awareness spread all over the world on the racism prevalent. \n",
    "\n"
   ]
  },
  {
   "cell_type": "markdown",
   "metadata": {},
   "source": [
    "Therefore, even though we have seen significant reduction in the number of shootings in the United States the past couple of years, we still need to see more reforms that protect the minorities and improve the effectiveness of the police. A more frequent use of body cams and community policing could really make a big difference within the country. "
   ]
  }
 ],
 "metadata": {
  "kernelspec": {
   "display_name": "Python 3",
   "language": "python",
   "name": "python3"
  }
 },
 "nbformat": 4,
 "nbformat_minor": 4
}
