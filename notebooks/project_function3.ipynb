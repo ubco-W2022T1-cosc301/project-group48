{
 "cells": [
  {
   "cell_type": "code",
   "execution_count": null,
   "id": "2b13aea4-6009-4046-b57e-ebb12658e900",
   "metadata": {},
   "outputs": [],
   "source": [
    "import numpy as np\n",
    "import pandas as pd\n",
    "import matplotlib.pyplot as plt\n",
    "import seaborn as sns"
   ]
  },
  {
   "cell_type": "code",
   "execution_count": null,
   "id": "b6b8f863-8a18-4d0e-9219-c2745c775b5e",
   "metadata": {},
   "outputs": [],
   "source": [
    "def load_and_process(url):\n",
    "    df1 = pd.read_csv(url).dropna()\n",
    "    \n",
    "    df2 = {\n",
    "        df1\n",
    "        .rename(columns={'name':'Name','date':'Date'})\n",
    "        .rename(columns={'manner_of_death': 'Manner of Death', 'armed':'Armed'})\n",
    "        .drop(['longitude','latitude','is_geocoding_exact'], axis=1)\n",
    "        }\n",
    "    return df2"
   ]
  }
 ],
 "metadata": {
  "kernelspec": {
   "display_name": "Python 3 (ipykernel)",
   "language": "python",
   "name": "python3"
  },
  "language_info": {
   "codemirror_mode": {
    "name": "ipython",
    "version": 3
   },
   "file_extension": ".py",
   "mimetype": "text/x-python",
   "name": "python",
   "nbconvert_exporter": "python",
   "pygments_lexer": "ipython3",
   "version": "3.9.12"
  }
 },
 "nbformat": 4,
 "nbformat_minor": 5
}
